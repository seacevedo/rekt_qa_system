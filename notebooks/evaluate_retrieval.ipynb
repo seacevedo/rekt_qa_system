{
 "cells": [
  {
   "cell_type": "code",
   "execution_count": 87,
   "id": "a0e1ad1a-bac7-44f4-ac19-003d43285117",
   "metadata": {},
   "outputs": [],
   "source": [
    "import pandas as pd\n",
    "from tqdm.auto import tqdm\n",
    "from sentence_transformers import SentenceTransformer\n",
    "from elasticsearch import Elasticsearch\n",
    "import minsearch\n",
    "import json"
   ]
  },
  {
   "cell_type": "markdown",
   "id": "c76f13a1-3aa1-44ba-b94e-29314902ba99",
   "metadata": {},
   "source": [
    "## Import Dataset"
   ]
  },
  {
   "cell_type": "code",
   "execution_count": 24,
   "id": "30b8651e-95ec-4b8a-a426-90f368b3136f",
   "metadata": {},
   "outputs": [],
   "source": [
    "df_rekt = pd.read_csv('../datasets/web3isgoinggreat_dataset.csv', index_col=0)"
   ]
  },
  {
   "cell_type": "code",
   "execution_count": 25,
   "id": "161dbcda-4359-49f1-aa93-f8b4040cfdd1",
   "metadata": {},
   "outputs": [],
   "source": [
    "df_rekt = df_rekt.dropna()"
   ]
  },
  {
   "cell_type": "code",
   "execution_count": 26,
   "id": "ad5c44f8-aba4-4807-87ff-51bc05dc0d1c",
   "metadata": {},
   "outputs": [],
   "source": [
    "df_rekt = df_rekt[['Hack' in i for i  in  df_rekt.tags]]"
   ]
  },
  {
   "cell_type": "code",
   "execution_count": 27,
   "id": "bf6307c3-e7e8-4710-b4d4-4bec9f9be521",
   "metadata": {},
   "outputs": [],
   "source": [
    "df_rekt = df_rekt.reset_index()"
   ]
  },
  {
   "cell_type": "code",
   "execution_count": 28,
   "id": "f21cd5f6-6a04-458a-8f95-57eaa8d10522",
   "metadata": {},
   "outputs": [],
   "source": [
    "df_rekt = df_rekt.drop(columns=['index'])"
   ]
  },
  {
   "cell_type": "code",
   "execution_count": 29,
   "id": "15b0500e-9807-40bd-aa22-b56c58922c15",
   "metadata": {},
   "outputs": [],
   "source": [
    "df_rekt['id'] = df_rekt.index"
   ]
  },
  {
   "cell_type": "code",
   "execution_count": 31,
   "id": "60314edd-68b8-4045-8d5f-fc15f36ab2dd",
   "metadata": {},
   "outputs": [
    {
     "data": {
      "text/html": [
       "<div>\n",
       "<style scoped>\n",
       "    .dataframe tbody tr th:only-of-type {\n",
       "        vertical-align: middle;\n",
       "    }\n",
       "\n",
       "    .dataframe tbody tr th {\n",
       "        vertical-align: top;\n",
       "    }\n",
       "\n",
       "    .dataframe thead th {\n",
       "        text-align: right;\n",
       "    }\n",
       "</style>\n",
       "<table border=\"1\" class=\"dataframe\">\n",
       "  <thead>\n",
       "    <tr style=\"text-align: right;\">\n",
       "      <th></th>\n",
       "      <th>title</th>\n",
       "      <th>date</th>\n",
       "      <th>summary</th>\n",
       "      <th>tags</th>\n",
       "      <th>id</th>\n",
       "    </tr>\n",
       "  </thead>\n",
       "  <tbody>\n",
       "    <tr>\n",
       "      <th>0</th>\n",
       "      <td>\"Peripheral\" Aave smart contract hacked for $5...</td>\n",
       "      <td>August 28, 2024</td>\n",
       "      <td>The popular defi lending platform, Aave, suffe...</td>\n",
       "      <td>Hack or scam</td>\n",
       "      <td>0</td>\n",
       "    </tr>\n",
       "    <tr>\n",
       "      <th>1</th>\n",
       "      <td>Brothers charged by SEC for $60 million \"crypt...</td>\n",
       "      <td>August 26, 2024</td>\n",
       "      <td>Brothers Jonathan and Tanner Adam were charged...</td>\n",
       "      <td>Hack or scam, Law</td>\n",
       "      <td>1</td>\n",
       "    </tr>\n",
       "    <tr>\n",
       "      <th>2</th>\n",
       "      <td>Users suffer losses after Polygon Discord hack</td>\n",
       "      <td>August 24, 2024</td>\n",
       "      <td>Some fans of the Polygon blockchain, or those ...</td>\n",
       "      <td>Hack or scam</td>\n",
       "      <td>2</td>\n",
       "    </tr>\n",
       "    <tr>\n",
       "      <th>3</th>\n",
       "      <td>McDonald's Instagram hacked, hackers claim $70...</td>\n",
       "      <td>August 21, 2024</td>\n",
       "      <td>McDonald's Instagram account, as well as the T...</td>\n",
       "      <td>Hack or scam</td>\n",
       "      <td>3</td>\n",
       "    </tr>\n",
       "    <tr>\n",
       "      <th>4</th>\n",
       "      <td>Crypto holder loses over $55 million to appare...</td>\n",
       "      <td>August 20, 2024</td>\n",
       "      <td>Someone holding almost $55.5 million in the DA...</td>\n",
       "      <td>Hack or scam</td>\n",
       "      <td>4</td>\n",
       "    </tr>\n",
       "    <tr>\n",
       "      <th>...</th>\n",
       "      <td>...</td>\n",
       "      <td>...</td>\n",
       "      <td>...</td>\n",
       "      <td>...</td>\n",
       "      <td>...</td>\n",
       "    </tr>\n",
       "    <tr>\n",
       "      <th>256</th>\n",
       "      <td>Sentiment protocol hacked for almost $1 million</td>\n",
       "      <td>April 4, 2023</td>\n",
       "      <td>The Sentiment liquidity protocol on the Arbitr...</td>\n",
       "      <td>Hack or scam</td>\n",
       "      <td>256</td>\n",
       "    </tr>\n",
       "    <tr>\n",
       "      <th>257</th>\n",
       "      <td>Over $25 million taken from an MEV bot by mali...</td>\n",
       "      <td>April 3, 2023</td>\n",
       "      <td>It's a dog-eat dog-world in the crypto univers...</td>\n",
       "      <td>Hack or scam</td>\n",
       "      <td>257</td>\n",
       "    </tr>\n",
       "    <tr>\n",
       "      <th>258</th>\n",
       "      <td>Allbridge cross-chain bridge exploited for aro...</td>\n",
       "      <td>April 1, 2023</td>\n",
       "      <td>The Allbridge cross-chain bridge project was e...</td>\n",
       "      <td>Bug, Hack or scam</td>\n",
       "      <td>258</td>\n",
       "    </tr>\n",
       "    <tr>\n",
       "      <th>259</th>\n",
       "      <td>Arbitrum airdrop plagued by downtime, bugs, an...</td>\n",
       "      <td>March 31, 2023</td>\n",
       "      <td>A token airdrop from the popular Arbitrum Ethe...</td>\n",
       "      <td>Hack or scam, Hmm</td>\n",
       "      <td>259</td>\n",
       "    </tr>\n",
       "    <tr>\n",
       "      <th>260</th>\n",
       "      <td>$8.9 million stolen from SafeMoon</td>\n",
       "      <td>March 28, 2023</td>\n",
       "      <td>If the pump-and-dump didn't get you, the liqui...</td>\n",
       "      <td>Hack or scam</td>\n",
       "      <td>260</td>\n",
       "    </tr>\n",
       "  </tbody>\n",
       "</table>\n",
       "<p>261 rows × 5 columns</p>\n",
       "</div>"
      ],
      "text/plain": [
       "                                                 title             date  \\\n",
       "0    \"Peripheral\" Aave smart contract hacked for $5...  August 28, 2024   \n",
       "1    Brothers charged by SEC for $60 million \"crypt...  August 26, 2024   \n",
       "2       Users suffer losses after Polygon Discord hack  August 24, 2024   \n",
       "3    McDonald's Instagram hacked, hackers claim $70...  August 21, 2024   \n",
       "4    Crypto holder loses over $55 million to appare...  August 20, 2024   \n",
       "..                                                 ...              ...   \n",
       "256    Sentiment protocol hacked for almost $1 million    April 4, 2023   \n",
       "257  Over $25 million taken from an MEV bot by mali...    April 3, 2023   \n",
       "258  Allbridge cross-chain bridge exploited for aro...    April 1, 2023   \n",
       "259  Arbitrum airdrop plagued by downtime, bugs, an...   March 31, 2023   \n",
       "260                  $8.9 million stolen from SafeMoon   March 28, 2023   \n",
       "\n",
       "                                               summary               tags   id  \n",
       "0    The popular defi lending platform, Aave, suffe...       Hack or scam    0  \n",
       "1    Brothers Jonathan and Tanner Adam were charged...  Hack or scam, Law    1  \n",
       "2    Some fans of the Polygon blockchain, or those ...       Hack or scam    2  \n",
       "3    McDonald's Instagram account, as well as the T...       Hack or scam    3  \n",
       "4    Someone holding almost $55.5 million in the DA...       Hack or scam    4  \n",
       "..                                                 ...                ...  ...  \n",
       "256  The Sentiment liquidity protocol on the Arbitr...       Hack or scam  256  \n",
       "257  It's a dog-eat dog-world in the crypto univers...       Hack or scam  257  \n",
       "258  The Allbridge cross-chain bridge project was e...  Bug, Hack or scam  258  \n",
       "259  A token airdrop from the popular Arbitrum Ethe...  Hack or scam, Hmm  259  \n",
       "260  If the pump-and-dump didn't get you, the liqui...       Hack or scam  260  \n",
       "\n",
       "[261 rows x 5 columns]"
      ]
     },
     "execution_count": 31,
     "metadata": {},
     "output_type": "execute_result"
    }
   ],
   "source": [
    "df_rekt"
   ]
  },
  {
   "cell_type": "code",
   "execution_count": 32,
   "id": "e2cd2df3-2ac0-4c3f-b0aa-179cf72bb6f2",
   "metadata": {},
   "outputs": [],
   "source": [
    "documents = df_rekt.to_dict(orient='records')"
   ]
  },
  {
   "cell_type": "markdown",
   "id": "f2ac055a-f7e3-4c50-8962-cee1ee49e7cf",
   "metadata": {},
   "source": [
    "## Define Evaluation Functions"
   ]
  },
  {
   "cell_type": "code",
   "execution_count": 33,
   "id": "e52dd588-876b-4c86-ae26-b32fac9618e3",
   "metadata": {},
   "outputs": [],
   "source": [
    "def hit_rate(relevance_total):\n",
    "    cnt = 0\n",
    "\n",
    "    for line in relevance_total:\n",
    "        if True in line:\n",
    "            cnt = cnt + 1\n",
    "\n",
    "    return cnt / len(relevance_total)"
   ]
  },
  {
   "cell_type": "code",
   "execution_count": 34,
   "id": "de1bdef5-d42a-42b1-9275-fe0057c04bf0",
   "metadata": {},
   "outputs": [],
   "source": [
    "def mrr(relevance_total):\n",
    "    total_score = 0.0\n",
    "\n",
    "    for line in relevance_total:\n",
    "        for rank in range(len(line)):\n",
    "            if line[rank] == True:\n",
    "                total_score = total_score + 1 / (rank + 1)\n",
    "\n",
    "    return total_score / len(relevance_total)"
   ]
  },
  {
   "cell_type": "markdown",
   "id": "e14f1294-2073-43ab-88bb-faeb53d6df4e",
   "metadata": {},
   "source": [
    "## Evaluate Minsearch"
   ]
  },
  {
   "cell_type": "code",
   "execution_count": 140,
   "id": "0b125845-dde1-4594-af8a-d4f0afca4c09",
   "metadata": {},
   "outputs": [
    {
     "data": {
      "text/plain": [
       "<minsearch.Index at 0x7f73195aaa10>"
      ]
     },
     "execution_count": 140,
     "metadata": {},
     "output_type": "execute_result"
    }
   ],
   "source": [
    "index = minsearch.Index(\n",
    "    text_fields=[\"title\", \"date\", \"summary\"],\n",
    "    keyword_fields=[\"tags\", \"id\"]\n",
    ")\n",
    "\n",
    "index.fit(documents)"
   ]
  },
  {
   "cell_type": "code",
   "execution_count": 141,
   "id": "fb5eed40-4e39-43e0-847d-9f4b049e4e1d",
   "metadata": {},
   "outputs": [],
   "source": [
    "def minsearch_search(query):\n",
    "    boost = {'date': 3.0, 'summary': 0.5}\n",
    "\n",
    "    results = index.search(\n",
    "        query=query,\n",
    "        boost_dict=boost,\n",
    "        num_results=5\n",
    "    )\n",
    "\n",
    "    return results"
   ]
  },
  {
   "cell_type": "code",
   "execution_count": 142,
   "id": "fd75b496-9756-4166-b020-45c3269ab433",
   "metadata": {},
   "outputs": [],
   "source": [
    "df_ground_truth = pd.read_csv('../datasets/ground-truth-retrieval_web3.csv')"
   ]
  },
  {
   "cell_type": "code",
   "execution_count": 143,
   "id": "2f31d011-51f9-4fe5-bbe5-55ea3ca0fb4e",
   "metadata": {},
   "outputs": [],
   "source": [
    "ground_truth = df_ground_truth.to_dict(orient='records')"
   ]
  },
  {
   "cell_type": "code",
   "execution_count": 144,
   "id": "69826853-bd3a-4787-a746-3f368e4fbd8d",
   "metadata": {},
   "outputs": [],
   "source": [
    "def evaluate(ground_truth, search_function):\n",
    "    relevance_total = []\n",
    "\n",
    "    for q in tqdm(ground_truth):\n",
    "        doc_id = q['id']\n",
    "        results = search_function(q)\n",
    "        relevance = [d['id'] == doc_id for d in results]\n",
    "        relevance_total.append(relevance)\n",
    "\n",
    "    return {\n",
    "        'hit_rate': hit_rate(relevance_total),\n",
    "        'mrr': mrr(relevance_total),\n",
    "    }"
   ]
  },
  {
   "cell_type": "code",
   "execution_count": 71,
   "id": "023efe94-00a9-4186-acee-de3eed86bc21",
   "metadata": {},
   "outputs": [
    {
     "name": "stderr",
     "output_type": "stream",
     "text": [
      "100%|██████████████████████████████████████████████████████████████████████████████| 1305/1305 [00:02<00:00, 604.20it/s]\n"
     ]
    },
    {
     "data": {
      "text/plain": [
       "{'hit_rate': 0.7318007662835249, 'mrr': 0.6523882503192853}"
      ]
     },
     "execution_count": 71,
     "metadata": {},
     "output_type": "execute_result"
    }
   ],
   "source": [
    "evaluate(ground_truth,  lambda q: minsearch_search(q['question']))"
   ]
  },
  {
   "cell_type": "markdown",
   "id": "0e03c601-89b5-4cc0-94ca-671d7853ac7d",
   "metadata": {},
   "source": [
    "## Evaluate Elasticsearch (Text Search)"
   ]
  },
  {
   "cell_type": "code",
   "execution_count": 74,
   "id": "aa60b431-8641-4320-9f4c-be495c519c9f",
   "metadata": {},
   "outputs": [
    {
     "data": {
      "text/plain": [
       "ObjectApiResponse({'acknowledged': True, 'shards_acknowledged': True, 'index': 'rekt-knowledgebase'})"
      ]
     },
     "execution_count": 74,
     "metadata": {},
     "output_type": "execute_result"
    }
   ],
   "source": [
    "es_client = Elasticsearch('http://localhost:9200') \n",
    "\n",
    "index_settings = {\n",
    "    \"settings\": {\n",
    "        \"number_of_shards\": 1,\n",
    "        \"number_of_replicas\": 0\n",
    "    },\n",
    "    \"mappings\": {\n",
    "        \"properties\": {\n",
    "            \"title\": {\"type\": \"text\"},\n",
    "            \"date\": {\"type\": \"text\"},\n",
    "            \"summary\": {\"type\": \"text\"},\n",
    "            \"tags\": {\"type\": \"keyword\"},\n",
    "            \"id\": {\"type\": \"keyword\"}\n",
    "        }\n",
    "    }\n",
    "}\n",
    "\n",
    "index_name = \"rekt-knowledgebase\"\n",
    "es_client.indices.delete(index=index_name, ignore_unavailable=True)\n",
    "es_client.indices.create(index=index_name, body=index_settings)"
   ]
  },
  {
   "cell_type": "code",
   "execution_count": 75,
   "id": "22c4f62f-7752-4365-a185-0898c826a785",
   "metadata": {},
   "outputs": [
    {
     "name": "stderr",
     "output_type": "stream",
     "text": [
      "100%|████████████████████████████████████████████████████████████████████████████████| 261/261 [00:02<00:00, 105.72it/s]\n"
     ]
    }
   ],
   "source": [
    "for doc in tqdm(documents):\n",
    "    es_client.index(index=index_name, document=doc)"
   ]
  },
  {
   "cell_type": "code",
   "execution_count": 76,
   "id": "43b34291-2adf-4729-8a55-7719225bcc49",
   "metadata": {},
   "outputs": [],
   "source": [
    "def elastic_search(query):\n",
    "\n",
    "    search_query = {\n",
    "        \"size\": 5,\n",
    "        \"query\": {\n",
    "            \"bool\": {\n",
    "                \"must\": {\n",
    "                    \"multi_match\": {\n",
    "                        \"query\": query,\n",
    "                        \"fields\": [\"title\", \"date^2\", \"summary\"],\n",
    "                        \"type\": \"best_fields\"\n",
    "                    }\n",
    "                }\n",
    "            }\n",
    "        }\n",
    "    }\n",
    "\n",
    "\n",
    "    response = es_client.search(index=index_name, body=search_query)\n",
    "    \n",
    "    result_docs = []\n",
    "    \n",
    "    for hit in response['hits']['hits']:\n",
    "        result_docs.append(hit['_source'])\n",
    "    \n",
    "    return result_docs"
   ]
  },
  {
   "cell_type": "code",
   "execution_count": 77,
   "id": "2ec40af1-6a1c-4ac6-b3b7-233dbd4e97f0",
   "metadata": {},
   "outputs": [
    {
     "name": "stderr",
     "output_type": "stream",
     "text": [
      "100%|██████████████████████████████████████████████████████████████████████████████| 1305/1305 [00:04<00:00, 324.85it/s]\n"
     ]
    },
    {
     "data": {
      "text/plain": [
       "{'hit_rate': 0.9134099616858238, 'mrr': 0.8574457215836528}"
      ]
     },
     "execution_count": 77,
     "metadata": {},
     "output_type": "execute_result"
    }
   ],
   "source": [
    "evaluate(ground_truth,  lambda q: elastic_search(q['question']))"
   ]
  },
  {
   "cell_type": "markdown",
   "id": "626c6804-b281-42d9-aa09-d3fb1129f9f0",
   "metadata": {},
   "source": [
    "## Evaluate Elasticsearch (Vector Search)"
   ]
  },
  {
   "cell_type": "code",
   "execution_count": 78,
   "id": "1ec0dfb7-b7b7-4541-9d52-03f969703bb7",
   "metadata": {},
   "outputs": [
    {
     "data": {
      "text/plain": [
       "ObjectApiResponse({'acknowledged': True, 'shards_acknowledged': True, 'index': 'rekt-knowledgebase'})"
      ]
     },
     "execution_count": 78,
     "metadata": {},
     "output_type": "execute_result"
    }
   ],
   "source": [
    "es_client = Elasticsearch('http://localhost:9200') \n",
    "\n",
    "index_settings = {\n",
    "    \"settings\": {\n",
    "        \"number_of_shards\": 1,\n",
    "        \"number_of_replicas\": 0\n",
    "    },\n",
    "    \"mappings\": {\n",
    "        \"properties\": {\n",
    "            \"title\": {\"type\": \"text\"},\n",
    "            \"date\": {\"type\": \"text\"},\n",
    "            \"summary\": {\"type\": \"text\"},\n",
    "            \"tags\": {\"type\": \"keyword\"},\n",
    "            \"id\": {\"type\": \"keyword\"},\n",
    "            \"title_vec\": {\n",
    "                \"type\": \"dense_vector\",\n",
    "                \"dims\": 384,\n",
    "                \"index\": True,\n",
    "                \"similarity\": \"cosine\"\n",
    "            },\n",
    "            \"date_vec\": {\n",
    "                \"type\": \"dense_vector\",\n",
    "                \"dims\": 384,\n",
    "                \"index\": True,\n",
    "                \"similarity\": \"cosine\"\n",
    "            },\n",
    "            \"tags_vec\": {\n",
    "                \"type\": \"dense_vector\",\n",
    "                \"dims\": 384,\n",
    "                \"index\": True,\n",
    "                \"similarity\": \"cosine\"\n",
    "            },\n",
    "            \"summary_vec\": {\n",
    "                \"type\": \"dense_vector\",\n",
    "                \"dims\": 384,\n",
    "                \"index\": True,\n",
    "                \"similarity\": \"cosine\"\n",
    "            },\n",
    "            \"all_vec\": {\n",
    "                \"type\": \"dense_vector\",\n",
    "                \"dims\": 384,\n",
    "                \"index\": True,\n",
    "                \"similarity\": \"cosine\"\n",
    "            },\n",
    "        }\n",
    "    }\n",
    "}\n",
    "\n",
    "index_name = \"rekt-knowledgebase\"\n",
    "es_client.indices.delete(index=index_name, ignore_unavailable=True)\n",
    "es_client.indices.create(index=index_name, body=index_settings)"
   ]
  },
  {
   "cell_type": "code",
   "execution_count": 81,
   "id": "488e77ab-3821-4cee-8222-7b62a0421e18",
   "metadata": {},
   "outputs": [
    {
     "name": "stderr",
     "output_type": "stream",
     "text": [
      "/home/seacevedo/.local/share/virtualenvs/rekt_qa_system-pBD0ZnT5/lib/python3.10/site-packages/transformers/tokenization_utils_base.py:1601: FutureWarning: `clean_up_tokenization_spaces` was not set. It will be set to `True` by default. This behavior will be depracted in transformers v4.45, and will be then set to `False` by default. For more details check this issue: https://github.com/huggingface/transformers/issues/31884\n",
      "  warnings.warn(\n"
     ]
    }
   ],
   "source": [
    "model_name = 'multi-qa-MiniLM-L6-cos-v1'\n",
    "model = SentenceTransformer(model_name)"
   ]
  },
  {
   "cell_type": "code",
   "execution_count": 82,
   "id": "c32150c3-f495-41ce-8f00-9f9228f04745",
   "metadata": {},
   "outputs": [],
   "source": [
    "def generate_embeddings(row):\n",
    "    title = row['title']\n",
    "    date = row['date']\n",
    "    tags = row['tags']\n",
    "    if pd.isna(tags):\n",
    "        tags = ''\n",
    "    summary = row['summary']\n",
    "    title_summary = title + ' ' + summary\n",
    "\n",
    "    row['title_vec'] = model.encode(title)\n",
    "    row['date_vec'] = model.encode(date)\n",
    "    row['tags_vec'] = model.encode(tags)\n",
    "    row['summary_vec'] = model.encode(summary)\n",
    "    row['all_vec'] = model.encode(title_summary)\n",
    "\n",
    "    return row"
   ]
  },
  {
   "cell_type": "code",
   "execution_count": 83,
   "id": "ffd86d35-2c1f-4af6-a9b5-599e2751e80f",
   "metadata": {},
   "outputs": [],
   "source": [
    "df_rekt = df_rekt.apply(generate_embeddings, axis=1)"
   ]
  },
  {
   "cell_type": "code",
   "execution_count": 84,
   "id": "384b4016-5dd8-4ae9-a759-6155ac590d47",
   "metadata": {},
   "outputs": [],
   "source": [
    "rekt_docs = df_rekt.to_json(orient=\"records\")"
   ]
  },
  {
   "cell_type": "code",
   "execution_count": 88,
   "id": "13bf45eb-a410-4277-a73b-3f09cd6348cf",
   "metadata": {},
   "outputs": [],
   "source": [
    "parsed = json.loads(rekt_docs)"
   ]
  },
  {
   "cell_type": "code",
   "execution_count": 90,
   "id": "d11bba83-6264-407c-937e-e5bbc3f069e1",
   "metadata": {},
   "outputs": [
    {
     "name": "stderr",
     "output_type": "stream",
     "text": [
      "100%|█████████████████████████████████████████████████████████████████████████████████| 261/261 [00:03<00:00, 78.57it/s]\n"
     ]
    }
   ],
   "source": [
    "for doc in tqdm(parsed):\n",
    "    es_client.index(index=index_name, document=doc)"
   ]
  },
  {
   "cell_type": "code",
   "execution_count": 94,
   "id": "45d0efce-412d-4504-83a6-18578dd1c16b",
   "metadata": {},
   "outputs": [],
   "source": [
    "def elastic_search_knn(field, vector):\n",
    "    knn = {\n",
    "        \"field\": field,\n",
    "        \"query_vector\": vector,\n",
    "        \"k\": 5,\n",
    "        \"num_candidates\": 10000\n",
    "    }\n",
    "\n",
    "    search_query = {\n",
    "        \"knn\": knn,\n",
    "        \"_source\": [\"title\", \"date\", \"summary\", \"tags\", \"id\"]\n",
    "    }\n",
    "\n",
    "    es_results = es_client.search(\n",
    "        index=index_name,\n",
    "        body=search_query\n",
    "    )\n",
    "    \n",
    "    result_docs = []\n",
    "    \n",
    "    for hit in es_results['hits']['hits']:\n",
    "        result_docs.append(hit['_source'])\n",
    "\n",
    "    return result_docs"
   ]
  },
  {
   "cell_type": "code",
   "execution_count": 95,
   "id": "c7c81828-80f4-4c67-95c1-48ddcaa6fb53",
   "metadata": {},
   "outputs": [],
   "source": [
    "def question_vector_knn(q):\n",
    "    question = q['question']\n",
    "\n",
    "    v_q = model.encode(question)\n",
    "\n",
    "    return elastic_search_knn('all_vec', v_q)"
   ]
  },
  {
   "cell_type": "code",
   "execution_count": 96,
   "id": "1f2aaefc-e897-49b7-ba8a-fcbf051944a7",
   "metadata": {},
   "outputs": [
    {
     "name": "stderr",
     "output_type": "stream",
     "text": [
      "100%|███████████████████████████████████████████████████████████████████████████████| 1305/1305 [00:18<00:00, 70.44it/s]\n"
     ]
    },
    {
     "data": {
      "text/plain": [
       "{'hit_rate': 0.8, 'mrr': 0.742158365261814}"
      ]
     },
     "execution_count": 96,
     "metadata": {},
     "output_type": "execute_result"
    }
   ],
   "source": [
    "evaluate(ground_truth, question_vector_knn)"
   ]
  },
  {
   "cell_type": "markdown",
   "id": "c41dd0da-477a-4539-8903-e33dc43d819d",
   "metadata": {},
   "source": [
    "## Evaluate Elasticsearch (Hybrid Search)"
   ]
  },
  {
   "cell_type": "code",
   "execution_count": 137,
   "id": "00935b10-3f06-46d7-8f6b-bf2ade305310",
   "metadata": {},
   "outputs": [],
   "source": [
    "def elastic_search_hybrid(query): #0.8, 0.2\n",
    "    v_q = model.encode(query)\n",
    "    \n",
    "    knn_query = {\n",
    "        \"field\": \"all_vec\",\n",
    "        \"query_vector\": v_q,\n",
    "        \"k\": 5,\n",
    "        \"num_candidates\": 10000,\n",
    "        \"boost\": 0.8\n",
    "    }\n",
    "\n",
    "    keyword_query = {\n",
    "        \"bool\": {\n",
    "            \"must\": {\n",
    "                \"multi_match\": {\n",
    "                    \"query\": query,\n",
    "                    \"fields\": [\"title\", \"date\", \"summary\", \"tags\"],\n",
    "                    \"type\": \"best_fields\",\n",
    "                    \"boost\": 0.2,\n",
    "                }\n",
    "            }\n",
    "        }\n",
    "    }\n",
    "\n",
    "    response = es_client.search(\n",
    "        index=index_name,\n",
    "        query=keyword_query,\n",
    "        knn=knn_query,\n",
    "        size=5\n",
    "    )\n",
    "\n",
    "    result_docs = []\n",
    "\n",
    "    for hit in response['hits']['hits']:\n",
    "        result_docs.append(hit['_source'])\n",
    "\n",
    "    return result_docs"
   ]
  },
  {
   "cell_type": "code",
   "execution_count": 138,
   "id": "68942dcf-8b28-478f-b7c5-42457bb177fa",
   "metadata": {},
   "outputs": [],
   "source": [
    "def question_hybrid(q):\n",
    "    question = q['question']\n",
    "    return elastic_search_hybrid(question)"
   ]
  },
  {
   "cell_type": "code",
   "execution_count": 139,
   "id": "4c1e5e7d-66a4-406e-a34f-3719e20b2b36",
   "metadata": {},
   "outputs": [
    {
     "name": "stderr",
     "output_type": "stream",
     "text": [
      "100%|███████████████████████████████████████████████████████████████████████████████| 1305/1305 [00:19<00:00, 66.55it/s]\n"
     ]
    },
    {
     "data": {
      "text/plain": [
       "{'hit_rate': 0.9302681992337165, 'mrr': 0.8803575989782887}"
      ]
     },
     "execution_count": 139,
     "metadata": {},
     "output_type": "execute_result"
    }
   ],
   "source": [
    "evaluate(ground_truth, question_hybrid)"
   ]
  },
  {
   "cell_type": "code",
   "execution_count": null,
   "id": "e8a259a6-a952-46d6-88ab-e9d2aae05e4e",
   "metadata": {},
   "outputs": [],
   "source": []
  }
 ],
 "metadata": {
  "kernelspec": {
   "display_name": "Python 3 (ipykernel)",
   "language": "python",
   "name": "python3"
  },
  "language_info": {
   "codemirror_mode": {
    "name": "ipython",
    "version": 3
   },
   "file_extension": ".py",
   "mimetype": "text/x-python",
   "name": "python",
   "nbconvert_exporter": "python",
   "pygments_lexer": "ipython3",
   "version": "3.10.12"
  }
 },
 "nbformat": 4,
 "nbformat_minor": 5
}
